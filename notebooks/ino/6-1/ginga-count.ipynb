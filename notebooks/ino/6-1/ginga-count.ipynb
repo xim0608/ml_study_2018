{
 "cells": [
  {
   "cell_type": "code",
   "execution_count": 1,
   "metadata": {},
   "outputs": [],
   "source": [
    "from janome.tokenizer import Tokenizer\n",
    "import zipfile\n",
    "import os.path, urllib.request as req"
   ]
  },
  {
   "cell_type": "code",
   "execution_count": 2,
   "metadata": {},
   "outputs": [
    {
     "name": "stdout",
     "output_type": "stream",
     "text": [
      "ZIPファイルをダウンロード\n"
     ]
    }
   ],
   "source": [
    "# 銀河鉄道の夜のZIPファイルをダウンロード --- (※1)\n",
    "url = \"http://www.aozora.gr.jp/cards/000081/files/456_ruby_145.zip\"\n",
    "local = \"456_ruby_145.zip\"\n",
    "if not os.path.exists(local):\n",
    "    print(\"ZIPファイルをダウンロード\")\n",
    "    req.urlretrieve(url, local)"
   ]
  },
  {
   "cell_type": "code",
   "execution_count": 3,
   "metadata": {},
   "outputs": [],
   "source": [
    "# ZIPファイル内のテキストファイルを読む --- (※2)\n",
    "zf = zipfile.ZipFile(local, 'r') # zipファイルを読む\n",
    "fp= zf.open('gingatetsudono_yoru.txt', 'r') # アーカイブ内のテキストを読む\n",
    "bindata = fp.read()\n",
    "txt = bindata.decode('shift_jis') # テキストがShift_JISなのでデコード"
   ]
  },
  {
   "cell_type": "code",
   "execution_count": 4,
   "metadata": {},
   "outputs": [],
   "source": [
    "# 形態素解析オブジェクトの生成 --- (※3)\n",
    "t = Tokenizer()"
   ]
  },
  {
   "cell_type": "code",
   "execution_count": 5,
   "metadata": {},
   "outputs": [],
   "source": [
    "# テキストを一行ずつ処理 --- (※4)\n",
    "word_dic = {}\n",
    "lines = txt.split(\"\\r\\n\")\n",
    "for line in lines:\n",
    "    malist = t.tokenize(line)\n",
    "    for w in malist:\n",
    "        word = w.surface\n",
    "        ps = w.part_of_speech # 品詞\n",
    "        if ps.find('名詞') < 0: continue # 名詞だけカウント --- (※5)\n",
    "        if not word in word_dic:\n",
    "            word_dic[word] = 0\n",
    "        word_dic[word] += 1 # カウント"
   ]
  },
  {
   "cell_type": "code",
   "execution_count": 11,
   "metadata": {},
   "outputs": [
    {
     "name": "stdout",
     "output_type": "stream",
     "text": [
      "よう(209)   ||  の(206)   ||  ジョバンニ(190)   ||  人(102)   ||  カムパネルラ(101)   ||  ん(101)   ||  方(66)   ||  中(65)   ||  ぼく(59)   ||  それ(58)   ||  たち(56)   ||  みんな(54)   ||  二(53)   ||  一(47)   ||  何(46)   ||  ほんとう(45)   ||  鳥(45)   ||  どこ(43)   ||  こと(39)   ||  窓(39)   ||  汽車(39)   ||  前(38)   ||  そう(38)   ||  いま(38)   ||  眼(37)   ||  川(35)   ||  とき(35)   ||  僕(33)   ||  もの(32)   ||  たくさん(30)   ||  水(29)   ||  お(29)   ||  ら(29)   ||  青年(28)   ||  銀河(27)   ||  こっち(27)   ||  さっき(27)   ||  上(26)   ||  そこ(26)   ||  ろ(26)   ||  風(26)   ||  星(25)   ||  顔(25)   ||  向う(25)   ||  女の子(25)   ||  野原(24)   ||  お父さん(23)   ||  天の川(23)   ||  声(22)   ||  い(21)   ||  "
     ]
    }
   ],
   "source": [
    "# よく使われる単語を表示 --- (※6)\n",
    "keys = sorted(word_dic.items(), key=lambda x:x[1], reverse=True)\n",
    "for word,cnt in keys[:50]:\n",
    "    print(\"{0}({1}) \".format(word,cnt), end=\"  ||  \")"
   ]
  },
  {
   "cell_type": "code",
   "execution_count": null,
   "metadata": {},
   "outputs": [],
   "source": []
  }
 ],
 "metadata": {
  "kernelspec": {
   "display_name": "Python 3",
   "language": "python",
   "name": "python3"
  },
  "language_info": {
   "codemirror_mode": {
    "name": "ipython",
    "version": 3
   },
   "file_extension": ".py",
   "mimetype": "text/x-python",
   "name": "python",
   "nbconvert_exporter": "python",
   "pygments_lexer": "ipython3",
   "version": "3.6.3"
  }
 },
 "nbformat": 4,
 "nbformat_minor": 2
}
