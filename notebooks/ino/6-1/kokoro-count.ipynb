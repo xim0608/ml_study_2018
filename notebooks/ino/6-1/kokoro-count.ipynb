{
 "cells": [
  {
   "cell_type": "code",
   "execution_count": 1,
   "metadata": {},
   "outputs": [],
   "source": [
    "from janome.tokenizer import Tokenizer\n",
    "import zipfile\n",
    "import os.path, urllib.request as req"
   ]
  },
  {
   "cell_type": "code",
   "execution_count": 2,
   "metadata": {},
   "outputs": [
    {
     "name": "stdout",
     "output_type": "stream",
     "text": [
      "ZIPファイルをダウンロード\n"
     ]
    }
   ],
   "source": [
    "# 夏目漱石の「こころ」のZIPファイルをダウンロード --- (※1)\n",
    "url = \"http://www.aozora.gr.jp/cards/000148/files/773_ruby_5968.zip\"\n",
    "local = \"773_ruby_5968.zip\"\n",
    "if not os.path.exists(local):\n",
    "    print(\"ZIPファイルをダウンロード\")\n",
    "    req.urlretrieve(url, local)"
   ]
  },
  {
   "cell_type": "code",
   "execution_count": 3,
   "metadata": {},
   "outputs": [],
   "source": [
    "# ZIPファイル内のテキストファイルを読む --- (※2)\n",
    "zf = zipfile.ZipFile(local, 'r') # zipファイルを読む\n",
    "fp= zf.open('kokoro.txt', 'r') # アーカイブ内のテキストを読む\n",
    "bindata = fp.read()\n",
    "txt = bindata.decode('shift_jis') # テキストがShift_JISなのでデコード"
   ]
  },
  {
   "cell_type": "code",
   "execution_count": 4,
   "metadata": {},
   "outputs": [],
   "source": [
    "# 形態素解析オブジェクトの生成 --- (※3)\n",
    "t = Tokenizer()"
   ]
  },
  {
   "cell_type": "code",
   "execution_count": 5,
   "metadata": {},
   "outputs": [],
   "source": [
    "# テキストを一行ずつ処理 --- (※4)\n",
    "word_dic = {}\n",
    "lines = txt.split(\"\\r\\n\")\n",
    "for line in lines:\n",
    "    malist = t.tokenize(line)\n",
    "    for w in malist:\n",
    "        word = w.surface\n",
    "        ps = w.part_of_speech # 品詞\n",
    "        if ps.find('名詞') < 0: continue # 名詞だけカウント --- (※5)\n",
    "        if not word in word_dic:\n",
    "            word_dic[word] = 0\n",
    "        word_dic[word] += 1 # カウント"
   ]
  },
  {
   "cell_type": "code",
   "execution_count": 6,
   "metadata": {},
   "outputs": [
    {
     "name": "stdout",
     "output_type": "stream",
     "text": [
      "私：(2700)   ||  の：(1483)   ||  先生：(600)   ||  事：(576)   ||  よう：(523)   ||  それ：(409)   ||  もの：(393)   ||  人：(390)   ||  奥さん：(388)   ||  時：(379)   ||  彼：(314)   ||  父：(272)   ||  自分：(264)   ||  二：(263)   ||  中：(259)   ||  何：(251)   ||  一：(249)   ||  ん：(241)   ||  うち：(238)   ||  い：(234)   ||  十：(201)   ||  方：(200)   ||  あなた：(187)   ||  母：(171)   ||  前：(168)   ||  お嬢さん：(166)   ||  上：(156)   ||  気：(150)   ||  今：(150)   ||  顔：(135)   ||  め：(133)   ||  言葉：(128)   ||  ため：(126)   ||  字：(124)   ||  三：(123)   ||  日：(123)   ||  眼：(123)   ||  そこ：(120)   ||  心：(116)   ||  ＃：(115)   ||  下げ：(113)   ||  見出し：(113)   ||  ［＃「：(113)   ||  ５：(110)   ||  妻：(108)   ||  口：(107)   ||  通り：(105)   ||  お：(105)   ||  家：(96)   ||  間：(93)   ||  "
     ]
    }
   ],
   "source": [
    "# よく使われる単語を表示 --- (※6)\n",
    "keys = sorted(word_dic.items(), key=lambda x:x[1], reverse=True)\n",
    "for word,cnt in keys[:50]:\n",
    "    print(\"{0}：({1}) \".format(word,cnt), end=\"  ||  \")"
   ]
  },
  {
   "cell_type": "code",
   "execution_count": null,
   "metadata": {},
   "outputs": [],
   "source": []
  }
 ],
 "metadata": {
  "kernelspec": {
   "display_name": "Python 3",
   "language": "python",
   "name": "python3"
  },
  "language_info": {
   "codemirror_mode": {
    "name": "ipython",
    "version": 3
   },
   "file_extension": ".py",
   "mimetype": "text/x-python",
   "name": "python",
   "nbconvert_exporter": "python",
   "pygments_lexer": "ipython3",
   "version": "3.6.3"
  }
 },
 "nbformat": 4,
 "nbformat_minor": 2
}
