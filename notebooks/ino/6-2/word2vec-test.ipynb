{
 "cells": [
  {
   "cell_type": "code",
   "execution_count": 1,
   "metadata": {},
   "outputs": [],
   "source": [
    "from gensim.models import word2vec"
   ]
  },
  {
   "cell_type": "code",
   "execution_count": 2,
   "metadata": {},
   "outputs": [
    {
     "name": "stdout",
     "output_type": "stream",
     "text": [
      "[ 夏目漱石 の場合]\n",
      "結婚 = 離別,拒絶,会見,会う,先決,半年,祝,打ち明ける,列席,お答え\n",
      "恋 = 賜物,九寸五分,脆い,悟り,久松,不吉,焦心,老子,似つく,未了\n",
      "妻 = 夫,ぎりになりました,親身,吉田,小蔭,三沢,近況,母親,仕打,健三\n",
      "人生 = 増補,人世,観,宇宙,高下,イズム,美的,各国,技巧,意義\n"
     ]
    },
    {
     "name": "stderr",
     "output_type": "stream",
     "text": [
      "/opt/conda/lib/python3.6/site-packages/ipykernel_launcher.py:6: DeprecationWarning: Call to deprecated `most_similar` (Method will be removed in 4.0.0, use self.wv.most_similar() instead).\n",
      "  \n"
     ]
    },
    {
     "name": "stdout",
     "output_type": "stream",
     "text": [
      "[ 太宰治 の場合]\n",
      "結婚 = 逢える,姉さん,あとあと,乃公,出征,破産,帰還,あざむく,不忠,文通\n",
      "恋 = 諦める,あきらめ,愛撫,慄然,解,幸福,かくれんぼ,不幸,悔恨,礼儀\n",
      "妻 = 姉たち,帶者,病身,母,病後,兄,代理,母親,姉,だしぬける\n",
      "人生 = 実体,成果,絶対,営み,価値,創造,現実,真実,遊戯,哀しい\n",
      "[ 芥川龍之介 の場合]\n",
      "結婚 = 媒酌,延期,役目,熱烈,幻滅,名詞,関係,悔いる,解剖,発狂\n",
      "恋 = 介抱,信心,罪人,其,功徳,追いやる,強力,今生,神仏,勿体ない\n",
      "妻 = 従弟,誠実,手ごめ,母,小夜,窘める,引き離す,ドッペルゲンゲル,母親,女\n",
      "人生 = 暗澹,至上,前者,偉大,教訓,滅びる,悲劇,完全,モオパスサン,表現\n"
     ]
    }
   ],
   "source": [
    "persons = ['夏目漱石', '太宰治', '芥川龍之介']\n",
    "for person in persons:\n",
    "    model = word2vec.Word2Vec.load('text/'+person+'.model')\n",
    "    print(\"[\", person, \"の場合]\")\n",
    "    for word in ['結婚', '恋', '妻','人生']:\n",
    "        words = model.most_similar(positive=[word])\n",
    "        n = [w[0] for w in words]\n",
    "        print(word,\"=\", \",\".join(n))"
   ]
  },
  {
   "cell_type": "code",
   "execution_count": null,
   "metadata": {},
   "outputs": [],
   "source": []
  }
 ],
 "metadata": {
  "kernelspec": {
   "display_name": "Python 3",
   "language": "python",
   "name": "python3"
  },
  "language_info": {
   "codemirror_mode": {
    "name": "ipython",
    "version": 3
   },
   "file_extension": ".py",
   "mimetype": "text/x-python",
   "name": "python",
   "nbconvert_exporter": "python",
   "pygments_lexer": "ipython3",
   "version": "3.6.3"
  }
 },
 "nbformat": 4,
 "nbformat_minor": 2
}
