{
 "cells": [
  {
   "cell_type": "code",
   "execution_count": 2,
   "metadata": {},
   "outputs": [],
   "source": [
    "from gensim.models import word2vec"
   ]
  },
  {
   "cell_type": "code",
   "execution_count": 3,
   "metadata": {},
   "outputs": [],
   "source": [
    "model = word2vec.Word2Vec.load('text/夏目漱石.model')"
   ]
  },
  {
   "cell_type": "code",
   "execution_count": 4,
   "metadata": {},
   "outputs": [
    {
     "name": "stderr",
     "output_type": "stream",
     "text": [
      "/opt/conda/lib/python3.6/site-packages/ipykernel_launcher.py:2: DeprecationWarning: Call to deprecated `most_similar` (Method will be removed in 4.0.0, use self.wv.most_similar() instead).\n",
      "  \n"
     ]
    },
    {
     "data": {
      "text/plain": [
       "[('笑い声', 0.7586726546287537),\n",
       " ('話し声', 0.7458789944648743),\n",
       " ('唸り', 0.7189188599586487),\n",
       " ('聞える', 0.7109006643295288),\n",
       " ('鵯', 0.7014775276184082),\n",
       " ('訴状', 0.6992680430412292),\n",
       " ('鶏', 0.6988312005996704),\n",
       " ('盛り分ける', 0.6897034049034119),\n",
       " ('歌う', 0.6882749199867249),\n",
       " ('エヘン', 0.6827924847602844)]"
      ]
     },
     "execution_count": 4,
     "metadata": {},
     "output_type": "execute_result"
    }
   ],
   "source": [
    "#声 と似ている単語を１０個列挙\n",
    "model.most_similar(positive='声')"
   ]
  },
  {
   "cell_type": "code",
   "execution_count": 5,
   "metadata": {},
   "outputs": [
    {
     "name": "stderr",
     "output_type": "stream",
     "text": [
      "/opt/conda/lib/python3.6/site-packages/ipykernel_launcher.py:2: DeprecationWarning: Call to deprecated `most_similar` (Method will be removed in 4.0.0, use self.wv.most_similar() instead).\n",
      "  \n"
     ]
    },
    {
     "data": {
      "text/plain": [
       "[('男', 0.6720791459083557),\n",
       " ('着飾る', 0.6422480940818787),\n",
       " ('少女', 0.6420779228210449),\n",
       " ('美禰子', 0.6385478377342224),\n",
       " ('無傷', 0.6354199647903442),\n",
       " ('美しい', 0.6275591254234314),\n",
       " ('そむける', 0.6239745616912842),\n",
       " ('見惚れる', 0.617418646812439),\n",
       " ('見合', 0.6161594986915588),\n",
       " ('連添う', 0.6159497499465942)]"
      ]
     },
     "execution_count": 5,
     "metadata": {},
     "output_type": "execute_result"
    }
   ],
   "source": [
    "#母が女なら、父は？\n",
    "model.most_similar(positive=['母', '女'], negative='父')"
   ]
  },
  {
   "cell_type": "code",
   "execution_count": 6,
   "metadata": {},
   "outputs": [
    {
     "name": "stderr",
     "output_type": "stream",
     "text": [
      "/opt/conda/lib/python3.6/site-packages/ipykernel_launcher.py:2: DeprecationWarning: Call to deprecated `most_similar` (Method will be removed in 4.0.0, use self.wv.most_similar() instead).\n",
      "  \n"
     ]
    },
    {
     "data": {
      "text/plain": [
       "[('女', 0.730529248714447),\n",
       " ('連添う', 0.6809625625610352),\n",
       " ('其伴侶', 0.6196474432945251),\n",
       " ('坂越', 0.6106936931610107),\n",
       " ('成仏', 0.6028109192848206),\n",
       " ('執拗', 0.5982200503349304),\n",
       " ('ならぶ', 0.5976558327674866),\n",
       " ('行きかかる', 0.5967719554901123),\n",
       " ('さだ', 0.5948975682258606),\n",
       " ('無傷', 0.5930282473564148)]"
      ]
     },
     "execution_count": 6,
     "metadata": {},
     "output_type": "execute_result"
    }
   ],
   "source": [
    "#右が男なら、左は？\n",
    "model.most_similar(positive=['右', '男'], negative='左')"
   ]
  },
  {
   "cell_type": "code",
   "execution_count": null,
   "metadata": {},
   "outputs": [],
   "source": []
  }
 ],
 "metadata": {
  "kernelspec": {
   "display_name": "Python 3",
   "language": "python",
   "name": "python3"
  },
  "language_info": {
   "codemirror_mode": {
    "name": "ipython",
    "version": 3
   },
   "file_extension": ".py",
   "mimetype": "text/x-python",
   "name": "python",
   "nbconvert_exporter": "python",
   "pygments_lexer": "ipython3",
   "version": "3.6.3"
  }
 },
 "nbformat": 4,
 "nbformat_minor": 2
}
