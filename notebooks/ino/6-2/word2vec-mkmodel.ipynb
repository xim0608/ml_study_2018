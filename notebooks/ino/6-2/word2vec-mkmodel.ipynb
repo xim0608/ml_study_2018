{
 "cells": [
  {
   "cell_type": "code",
   "execution_count": 3,
   "metadata": {},
   "outputs": [],
   "source": [
    "from gensim.models import word2vec"
   ]
  },
  {
   "cell_type": "code",
   "execution_count": 4,
   "metadata": {},
   "outputs": [
    {
     "name": "stdout",
     "output_type": "stream",
     "text": [
      "夏目漱石\n",
      "太宰治\n",
      "芥川龍之介\n",
      "ok\n"
     ]
    }
   ],
   "source": [
    "# 単語データからモデルを生成\n",
    "persons = ['夏目漱石', '太宰治', '芥川龍之介']\n",
    "for person in persons:\n",
    "    print(person)\n",
    "    data = word2vec.LineSentence('text/'+person+'.wakati')\n",
    "    model = word2vec.Word2Vec(data, size=100,\n",
    "        window=3, hs=1, min_count=1, sg=1)\n",
    "    model.save('text/'+person+'.model')\n",
    "print(\"ok\")"
   ]
  },
  {
   "cell_type": "code",
   "execution_count": null,
   "metadata": {},
   "outputs": [],
   "source": []
  }
 ],
 "metadata": {
  "kernelspec": {
   "display_name": "Python 3",
   "language": "python",
   "name": "python3"
  },
  "language_info": {
   "codemirror_mode": {
    "name": "ipython",
    "version": 3
   },
   "file_extension": ".py",
   "mimetype": "text/x-python",
   "name": "python",
   "nbconvert_exporter": "python",
   "pygments_lexer": "ipython3",
   "version": "3.6.3"
  }
 },
 "nbformat": 4,
 "nbformat_minor": 2
}
