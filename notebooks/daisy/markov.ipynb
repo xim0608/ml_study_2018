{
 "cells": [
  {
   "cell_type": "code",
   "execution_count": 42,
   "metadata": {},
   "outputs": [],
   "source": [
    "from janome.tokenizer import Tokenizer\n",
    "import zipfile\n",
    "import os, re, json, random, re"
   ]
  },
  {
   "cell_type": "code",
   "execution_count": 43,
   "metadata": {},
   "outputs": [],
   "source": [
    "zf = zipfile.ZipFile(\"773_ruby_5968.zip\", 'r') # zipファイルを読む\n",
    "fp= zf.open('kokoro.txt', 'r') # アーカイブ内のテキストを読む\n",
    "bindata = fp.read()\n",
    "text = bindata.decode('shift_jis') # テキストがShift_JISなのでデコード"
   ]
  },
  {
   "cell_type": "code",
   "execution_count": 44,
   "metadata": {},
   "outputs": [],
   "source": [
    "# マルコフ連鎖の辞書を作成 --- (※1)\n",
    "def make_dic(words):\n",
    "    tmp = [\"@\"]\n",
    "    dic = {}\n",
    "    for i in words:\n",
    "        word = i.surface\n",
    "        if word == \"\" or word == \"\\r\\n\" or word == \"\\n\": continue\n",
    "        tmp.append(word)\n",
    "        if len(tmp) < 3: continue\n",
    "        if len(tmp) > 3: tmp = tmp[1:]\n",
    "        set_word3(dic, tmp)\n",
    "        if word == \"。\":\n",
    "            tmp = [\"@\"]\n",
    "            continue\n",
    "    return dic"
   ]
  },
  {
   "cell_type": "code",
   "execution_count": 45,
   "metadata": {},
   "outputs": [],
   "source": [
    "# 三要素のリストを辞書として登録 --- (※2)\n",
    "def set_word3(dic, s3):\n",
    "    w1, w2, w3 = s3\n",
    "    if not w1 in dic: dic[w1] = {}\n",
    "    if not w2 in dic[w1]: dic[w1][w2] = {}\n",
    "    if not w3 in dic[w1][w2]: dic[w1][w2][w3] = 0\n",
    "    dic[w1][w2][w3] += 1"
   ]
  },
  {
   "cell_type": "code",
   "execution_count": 46,
   "metadata": {},
   "outputs": [],
   "source": [
    "# 作文する --- (※3)\n",
    "def make_sentence(dic):\n",
    "    ret = []\n",
    "    if not \"@\" in dic: return \"no dic\" \n",
    "    top = dic[\"@\"]\n",
    "    w1 = word_choice(top)\n",
    "    w2 = word_choice(top[w1])\n",
    "    ret.append(w1)\n",
    "    ret.append(w2)\n",
    "    while True:\n",
    "        w3 = word_choice(dic[w1][w2])\n",
    "        ret.append(w3)\n",
    "        if w3 == \"。\": break\n",
    "        w1, w2 = w2, w3\n",
    "    return \"\".join(ret)"
   ]
  },
  {
   "cell_type": "code",
   "execution_count": 47,
   "metadata": {},
   "outputs": [],
   "source": [
    "def word_choice(sel):\n",
    "    keys = sel.keys()\n",
    "    return random.choice(list(keys))"
   ]
  },
  {
   "cell_type": "code",
   "execution_count": 48,
   "metadata": {},
   "outputs": [],
   "source": [
    "dict_file = \"markov-kokoro.json\"\n",
    "if not os.path.exists(dict_file):\n",
    "    # 不要な部分を削除する\n",
    "    text = re.split(r'\\-{5,}',text)[2] # ヘッダを削除\n",
    "    text = re.split(r'底本：', text)[0] # フッタを削除\n",
    "    text = text.strip()\n",
    "    text = text.replace('｜', '') # ルビの開始記号を削除\n",
    "    text = re.sub(r'《.+?》', '', text) # ルビを削除\n",
    "    text = re.sub(r'［＃.+?］', '', text) # 入力注を削除\n",
    "    # janomeで形態素解析 --- (※5)\n",
    "    t = Tokenizer()\n",
    "    words = t.tokenize(text)\n",
    "    # 辞書を生成\n",
    "    dic = make_dic(words)\n",
    "    json.dump(dic, open(dict_file,\"w\", encoding=\"utf-8\"))\n",
    "else:\n",
    "    dic = json.load(open(dict_file,\"r\"))"
   ]
  },
  {
   "cell_type": "code",
   "execution_count": 50,
   "metadata": {},
   "outputs": [
    {
     "name": "stdout",
     "output_type": "stream",
     "text": [
      "乃木さんの方から話しかけた時からと断っておきます。\n",
      "---\n",
      "手の放せない私たちは最も幸福になるけれども、載せられ方からいい出してからは母の機嫌に逆らわない方針を取りおろして烟草を吹かした。\n",
      "---\n",
      "狼狽したのだろうくらいに思われないほど落付を失ったものとみえます。\n",
      "---\n"
     ]
    }
   ],
   "source": [
    "# 作文 --- (※6)\n",
    "for i in range(3):\n",
    "    s = make_sentence(dic)\n",
    "    print(s)\n",
    "    print(\"---\")"
   ]
  },
  {
   "cell_type": "code",
   "execution_count": 51,
   "metadata": {},
   "outputs": [],
   "source": [
    "from pprint import pprint\n",
    "import json"
   ]
  },
  {
   "cell_type": "code",
   "execution_count": 53,
   "metadata": {},
   "outputs": [
    {
     "name": "stdout",
     "output_type": "stream",
     "text": [
      "{'つもり': {'で': 1},\n",
      " 'と': {'、': 1},\n",
      " 'の': {'だ': 1, 'は': 1},\n",
      " '奇': {'体': 1},\n",
      " '方': {'へ': 1},\n",
      " '訳': {'に': 1}}\n"
     ]
    }
   ],
   "source": [
    "with open('markov-kokoro.json') as f:\n",
    "    dic = json.load(f)\n",
    "pprint(dic[\"歩く\"])"
   ]
  },
  {
   "cell_type": "code",
   "execution_count": null,
   "metadata": {},
   "outputs": [],
   "source": []
  }
 ],
 "metadata": {
  "kernelspec": {
   "display_name": "Python 3",
   "language": "python",
   "name": "python3"
  },
  "language_info": {
   "codemirror_mode": {
    "name": "ipython",
    "version": 3
   },
   "file_extension": ".py",
   "mimetype": "text/x-python",
   "name": "python",
   "nbconvert_exporter": "python",
   "pygments_lexer": "ipython3",
   "version": "3.6.3"
  }
 },
 "nbformat": 4,
 "nbformat_minor": 2
}
