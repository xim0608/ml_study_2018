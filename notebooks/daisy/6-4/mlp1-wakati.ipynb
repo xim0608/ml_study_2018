{
 "cells": [
  {
   "cell_type": "code",
   "execution_count": 4,
   "metadata": {},
   "outputs": [],
   "source": [
    "from janome.tokenizer import Tokenizer\n",
    "import os, glob\n",
    "\n",
    "# Janomeを使って形態素解析を行う\n",
    "ja_tokenizer = Tokenizer()"
   ]
  },
  {
   "cell_type": "code",
   "execution_count": 5,
   "metadata": {},
   "outputs": [],
   "source": [
    "# 日本語を分かち書き\n",
    "def ja_tokenize(text):\n",
    "    res = []\n",
    "    lines = text.split(\"\\n\")\n",
    "    lines = lines[2:] # 最初の二行はヘッダ情報なので捨てる\n",
    "    for line in lines:\n",
    "        malist = ja_tokenizer.tokenize(line)\n",
    "        for tok in malist:\n",
    "            ps = tok.part_of_speech.split(\",\")[0]\n",
    "            if not ps in ['名詞','動詞','形容詞']: continue\n",
    "            w = tok.base_form\n",
    "            if w == \"*\" or w == \"\": w = tok.surface\n",
    "            if w == \"\" or w == \"\\n\": continue\n",
    "            res.append(w)\n",
    "        res.append(\"\\n\")\n",
    "    return res\n"
   ]
  },
  {
   "cell_type": "code",
   "execution_count": 6,
   "metadata": {},
   "outputs": [],
   "source": [
    "root_dir = './newstext'\n",
    "for path in glob.glob(root_dir+\"/*/*.txt\", recursive=True):\n",
    "    if path.find(\"LICENSE\") > 0: continue\n",
    "    print(path)\n",
    "    path_wakati = path + \".wakati\"\n",
    "    if os.path.exists(path_wakati): continue\n",
    "    text = open(path, \"r\").read()\n",
    "    words = ja_tokenize(text)\n",
    "    wt = \" \".join(words)\n",
    "    open(path_wakati, \"w\", encoding=\"utf-8\").write(wt)"
   ]
  },
  {
   "cell_type": "code",
   "execution_count": null,
   "metadata": {},
   "outputs": [],
   "source": []
  }
 ],
 "metadata": {
  "kernelspec": {
   "display_name": "Python 3",
   "language": "python",
   "name": "python3"
  },
  "language_info": {
   "codemirror_mode": {
    "name": "ipython",
    "version": 3
   },
   "file_extension": ".py",
   "mimetype": "text/x-python",
   "name": "python",
   "nbconvert_exporter": "python",
   "pygments_lexer": "ipython3",
   "version": "3.6.3"
  }
 },
 "nbformat": 4,
 "nbformat_minor": 2
}
