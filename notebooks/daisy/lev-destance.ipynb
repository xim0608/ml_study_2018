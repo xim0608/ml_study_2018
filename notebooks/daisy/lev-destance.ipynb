{
 "cells": [
  {
   "cell_type": "code",
   "execution_count": 9,
   "metadata": {},
   "outputs": [],
   "source": [
    "# レーベシュタイン距離を求める\n",
    "def calc_distance(a, b):\n",
    "    ''' レーベンシュタイン距離を計算する '''\n",
    "    if a == b: return 0\n",
    "    a_len = len(a)\n",
    "    b_len = len(b)\n",
    "    if a == \"\": return b_len\n",
    "    if b == \"\": return a_len\n",
    "    # 二次元の表(a_len+1, b_len+1)を準備 --- (※1)\n",
    "    matrix = [[] for i in range(a_len+1)]\n",
    "    for i in range(a_len+1): # 0 で初期化\n",
    "        matrix[i] = [0 for j in range(b_len+1)]\n",
    "    # 0の時の初期値を設定\n",
    "    for i in range(a_len+1):\n",
    "        matrix[i][0] = i\n",
    "    for j in range(b_len+1):\n",
    "        matrix[0][j] = j\n",
    "    # 表を埋める --- (※2)\n",
    "    for i in range(1, a_len+1):\n",
    "        ac = a[i-1]\n",
    "        for j in range(1, b_len+1):\n",
    "            bc = b[j-1]\n",
    "            cost = 0 if (ac == bc) else 1\n",
    "            matrix[i][j] = min([\n",
    "                matrix[i-1][j] + 1,     # 文字の挿入\n",
    "                matrix[i][j-1] + 1,     # 文字の削除\n",
    "                matrix[i-1][j-1] + cost # 文字の置換\n",
    "            ])\n",
    "    return matrix[a_len][b_len]"
   ]
  },
  {
   "cell_type": "code",
   "execution_count": 10,
   "metadata": {},
   "outputs": [
    {
     "name": "stdout",
     "output_type": "stream",
     "text": [
      "2\n"
     ]
    }
   ],
   "source": [
    "# カキトメとカンヅメの距離は？ --- (※3)\n",
    "print(calc_distance(\"カキトメ\", \"カンヅメ\"))"
   ]
  },
  {
   "cell_type": "code",
   "execution_count": 11,
   "metadata": {},
   "outputs": [
    {
     "name": "stdout",
     "output_type": "stream",
     "text": [
      "0 イカダ\n",
      "1 イカ\n",
      "2 イカスミ\n",
      "2 サカナ\n",
      "2 カナダ\n",
      "3 サンマ\n"
     ]
    }
   ],
   "source": [
    "# 実行例\n",
    "samples = [\"イカダ\", \"イカスミ\", \"イカ\", \"サカナ\", \"サンマ\", \"カナダ\"]\n",
    "base = samples[0]\n",
    "r = sorted(samples,\n",
    "    key = lambda n: calc_distance(base, n))\n",
    "for n in r:\n",
    "    print(calc_distance(base, n), n)\n"
   ]
  },
  {
   "cell_type": "code",
   "execution_count": null,
   "metadata": {},
   "outputs": [],
   "source": []
  }
 ],
 "metadata": {
  "kernelspec": {
   "display_name": "Python 3",
   "language": "python",
   "name": "python3"
  },
  "language_info": {
   "codemirror_mode": {
    "name": "ipython",
    "version": 3
   },
   "file_extension": ".py",
   "mimetype": "text/x-python",
   "name": "python",
   "nbconvert_exporter": "python",
   "pygments_lexer": "ipython3",
   "version": "3.6.3"
  }
 },
 "nbformat": 4,
 "nbformat_minor": 2
}
